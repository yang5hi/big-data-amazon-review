{
 "cells": [
  {
   "cell_type": "code",
   "execution_count": 1,
   "metadata": {
    "colab": {
     "base_uri": "https://localhost:8080/"
    },
    "id": "lRseduODyDMe",
    "outputId": "13fef46d-d467-4abe-a6be-01999f1102bf"
   },
   "outputs": [
    {
     "name": "stdout",
     "output_type": "stream",
     "text": [
      "\r",
      "0% [Working]\r",
      "            \r",
      "Ign:1 https://developer.download.nvidia.com/compute/cuda/repos/ubuntu1804/x86_64  InRelease\n",
      "\r",
      "0% [Connecting to archive.ubuntu.com] [Connecting to security.ubuntu.com] [Wait\r",
      "                                                                               \r",
      "Hit:2 https://cloud.r-project.org/bin/linux/ubuntu bionic-cran40/ InRelease\n",
      "\r",
      "0% [Connecting to archive.ubuntu.com] [Connecting to security.ubuntu.com] [Conn\r",
      "                                                                               \r",
      "Ign:3 https://developer.download.nvidia.com/compute/machine-learning/repos/ubuntu1804/x86_64  InRelease\n",
      "\r",
      "0% [Connecting to archive.ubuntu.com] [Connecting to security.ubuntu.com] [Conn\r",
      "0% [2 InRelease gpgv 3,626 B] [Connecting to archive.ubuntu.com] [Connecting to\r",
      "                                                                               \r",
      "Hit:4 https://developer.download.nvidia.com/compute/cuda/repos/ubuntu1804/x86_64  Release\n",
      "Hit:5 https://developer.download.nvidia.com/compute/machine-learning/repos/ubuntu1804/x86_64  Release\n",
      "Get:6 http://security.ubuntu.com/ubuntu bionic-security InRelease [88.7 kB]\n",
      "Get:7 http://ppa.launchpad.net/c2d4u.team/c2d4u4.0+/ubuntu bionic InRelease [15.9 kB]\n",
      "Hit:8 http://archive.ubuntu.com/ubuntu bionic InRelease\n",
      "Get:10 http://archive.ubuntu.com/ubuntu bionic-updates InRelease [88.7 kB]\n",
      "Hit:12 http://ppa.launchpad.net/cran/libgit2/ubuntu bionic InRelease\n",
      "Hit:13 http://ppa.launchpad.net/deadsnakes/ppa/ubuntu bionic InRelease\n",
      "Get:14 http://archive.ubuntu.com/ubuntu bionic-backports InRelease [74.6 kB]\n",
      "Hit:15 http://ppa.launchpad.net/graphics-drivers/ppa/ubuntu bionic InRelease\n",
      "Get:16 http://ppa.launchpad.net/c2d4u.team/c2d4u4.0+/ubuntu bionic/main Sources [1,777 kB]\n",
      "Get:17 http://ppa.launchpad.net/c2d4u.team/c2d4u4.0+/ubuntu bionic/main amd64 Packages [909 kB]\n",
      "Fetched 2,954 kB in 4s (806 kB/s)\n",
      "Reading package lists... Done\n"
     ]
    }
   ],
   "source": [
    "import os\n",
    "# Find the latest version of spark 3.0  from http://www-us.apache.org/dist/spark/ and enter as the spark version\n",
    "# For example:\n",
    "spark_version = 'spark-3.1.2'\n",
    "# spark_version = 'spark-3.<enter version>'\n",
    "os.environ['SPARK_VERSION']=spark_version\n",
    "\n",
    "# Install Spark and Java\n",
    "!apt-get update\n",
    "!apt-get install openjdk-11-jdk-headless -qq > /dev/null\n",
    "!wget -q http://www-us.apache.org/dist/spark/$SPARK_VERSION/$SPARK_VERSION-bin-hadoop2.7.tgz\n",
    "!tar xf $SPARK_VERSION-bin-hadoop2.7.tgz\n",
    "!pip install -q findspark\n",
    "\n",
    "# Set Environment Variables\n",
    "os.environ[\"JAVA_HOME\"] = \"/usr/lib/jvm/java-11-openjdk-amd64\"\n",
    "os.environ[\"SPARK_HOME\"] = f\"/content/{spark_version}-bin-hadoop2.7\"\n",
    "\n",
    "# Start a SparkSession\n",
    "import findspark\n",
    "findspark.init()"
   ]
  },
  {
   "cell_type": "code",
   "execution_count": 2,
   "metadata": {
    "id": "ZNVcDMmr7C9e"
   },
   "outputs": [],
   "source": [
    " from pyspark.sql import SparkSession\n",
    "spark = SparkSession.builder.appName(\"level_2\").config(\"spark.driver.extraClassPath\",\"/content/postgresql-42.2.9.jar\").getOrCreate()"
   ]
  },
  {
   "cell_type": "markdown",
   "metadata": {
    "id": "EDlIuBcQFHNv"
   },
   "source": [
    "## Connect to s3 data"
   ]
  },
  {
   "cell_type": "code",
   "execution_count": 3,
   "metadata": {
    "colab": {
     "base_uri": "https://localhost:8080/"
    },
    "id": "v4da5sPfiRig",
    "outputId": "5b93f46a-ab43-494d-9827-2e9bdb7ffb7d"
   },
   "outputs": [
    {
     "name": "stdout",
     "output_type": "stream",
     "text": [
      "+-----------+-----------+--------------+----------+--------------+--------------------+----------------+-----------+-------------+-----------+----+-----------------+--------------------+--------------------+-----------+\n",
      "|marketplace|customer_id|     review_id|product_id|product_parent|       product_title|product_category|star_rating|helpful_votes|total_votes|vine|verified_purchase|     review_headline|         review_body|review_date|\n",
      "+-----------+-----------+--------------+----------+--------------+--------------------+----------------+-----------+-------------+-----------+----+-----------------+--------------------+--------------------+-----------+\n",
      "|         US|    3653882|R3O9SGZBVQBV76|B00FALQ1ZC|     937001370|Invicta Women's 1...|         Watches|          5|            0|          0|   N|                Y|          Five Stars|Absolutely love t...| 2015-08-31|\n",
      "|         US|   14661224| RKH8BNC3L5DLF|B00D3RGO20|     484010722|Kenneth Cole New ...|         Watches|          5|            0|          0|   N|                Y|I love thiswatch ...|I love this watch...| 2015-08-31|\n",
      "|         US|   27324930|R2HLE8WKZSU3NL|B00DKYC7TK|     361166390|Ritche 22mm Black...|         Watches|          2|            1|          1|   N|                Y|           Two Stars|           Scratches| 2015-08-31|\n",
      "|         US|    7211452|R31U3UH5AZ42LL|B000EQS1JW|     958035625|Citizen Men's BM8...|         Watches|          5|            0|          0|   N|                Y|          Five Stars|It works well on ...| 2015-08-31|\n",
      "|         US|   12733322|R2SV659OUJ945Y|B00A6GFD7S|     765328221|Orient ER27009B M...|         Watches|          4|            0|          0|   N|                Y|Beautiful face, b...|Beautiful watch f...| 2015-08-31|\n",
      "|         US|    6576411| RA51CP8TR5A2L|B00EYSOSE8|     230493695|Casio Men's GW-94...|         Watches|          5|            0|          0|   N|                Y|       No complaints|i love this watch...| 2015-08-31|\n",
      "|         US|   11811565| RB2Q7DLDN6TH6|B00WM0QA3M|     549298279|Fossil Women's ES...|         Watches|          5|            1|          1|   N|                Y|          Five Stars|for my wife and s...| 2015-08-31|\n",
      "|         US|   49401598|R2RHFJV0UYBK3Y|B00A4EYBR0|     844009113|INFANTRY Mens Nig...|         Watches|          1|            1|          5|   N|                N|I was about to bu...|I was about to bu...| 2015-08-31|\n",
      "|         US|   45925069|R2Z6JOQ94LFHEP|B00MAMPGGE|     263720892|G-Shock Men's Gre...|         Watches|          5|            1|          2|   N|                Y|      Perfect watch!|Watch is perfect....| 2015-08-31|\n",
      "|         US|   44751341| RX27XIIWY5JPB|B004LBPB7Q|     124278407|Heiden Quad Watch...|         Watches|          4|            0|          0|   N|                Y|Great quality and...|Great quality and...| 2015-08-31|\n",
      "|         US|    9962330|R15C7QEZT0LGZN|B00KGTVGKS|      28017857|Fossil Women's ES...|         Watches|          4|            2|          2|   N|                Y|           Satisfied|The watch was pre...| 2015-08-31|\n",
      "|         US|   16097204|R361XSS37V0NCZ|B0039UT5OU|     685450910|Casio General Men...|         Watches|          1|            0|          0|   N|                N|I do not think th...|I bought this wat...| 2015-08-31|\n",
      "|         US|   51330346| ROTNLALUAJAUB|B00MPF0XJQ|     767769082|2Tone Gold Silver...|         Watches|          3|            0|          0|   N|                Y|         Three Stars|It is a cheap wat...| 2015-08-31|\n",
      "|         US|    4201739|R2DYX7QU6BGOHR|B003P1OHHS|     648595227|Bulova Men's 98B1...|         Watches|          5|            0|          0|   N|                Y|          Five Stars|Heavier than i th...| 2015-08-31|\n",
      "|         US|   26339765| RWASY7FKI7QOT|B00R70YEOE|     457338020|Casio - G-Shock -...|         Watches|          5|            2|          3|   N|                Y|  Worth it - love it|Had it for severa...| 2015-08-31|\n",
      "|         US|    2692576|R2KKYZIN3CCL21|B000FVE3BG|     824370661|Invicta Men's 332...|         Watches|          5|            0|          0|   N|                Y|This is when diff...|This one is diffe...| 2015-08-31|\n",
      "|         US|   44713366|R22H4FGVD5O52O|B008X6JB12|     814431355|Seiko Women's SUT...|         Watches|          4|            1|          1|   N|                Y|Thewatch is attra...|The watch is attr...| 2015-08-31|\n",
      "|         US|   32778769|R11UACZERCM4ZY|B0040UOFPW|     187700878|Anne Klein Women'...|         Watches|          5|            0|          0|   N|                Y|          Five Stars|      said my wife..| 2015-08-31|\n",
      "|         US|   27258523|R1AT8NQ38UQOL6|B00UR2R5UY|     594315262|Guess U13630G1 Me...|         Watches|          5|            0|          0|   N|                Y|          Five Stars|Nice watch, on ti...| 2015-08-31|\n",
      "|         US|   42646538|R2NCZRQGIF1Q75|B00HFF57L0|     520810507|Nixon Men's Geo V...|         Watches|          4|            0|          0|   N|                Y|        Very stylish|Looks great and l...| 2015-08-31|\n",
      "+-----------+-----------+--------------+----------+--------------+--------------------+----------------+-----------+-------------+-----------+----+-----------------+--------------------+--------------------+-----------+\n",
      "only showing top 20 rows\n",
      "\n"
     ]
    }
   ],
   "source": [
    "url=\"https://s3.amazonaws.com/amazon-reviews-pds/tsv/amazon_reviews_us_Watches_v1_00.tsv.gz\"\n",
    "from pyspark import SparkFiles\n",
    "spark.sparkContext.addFile(url)\n",
    "spark_df = spark.read.csv(SparkFiles.get(\"amazon_reviews_us_Watches_v1_00.tsv.gz\"), sep=\"\\t\", header=True)\n",
    "spark_df.show()"
   ]
  },
  {
   "cell_type": "code",
   "execution_count": 4,
   "metadata": {
    "colab": {
     "base_uri": "https://localhost:8080/"
    },
    "id": "xwr-zREhirv7",
    "outputId": "3a95f308-ec9e-4dd9-a60c-9e1b4847944b"
   },
   "outputs": [
    {
     "data": {
      "text/plain": [
       "960872"
      ]
     },
     "execution_count": 4,
     "metadata": {
      "tags": []
     },
     "output_type": "execute_result"
    }
   ],
   "source": [
    "spark_df.count()"
   ]
  },
  {
   "cell_type": "markdown",
   "metadata": {
    "id": "pKFCThVdEyiM"
   },
   "source": [
    "## Process and select data related to vine"
   ]
  },
  {
   "cell_type": "markdown",
   "metadata": {
    "id": "_9inYcLCnhsY"
   },
   "source": [
    "\n",
    "product_parent    - Random identifier that can be used to aggregate reviews for the same product.<br>\n",
    "star_rating       - The 1-5 star rating of the review.<br>\n",
    "helpful_votes     - Number of helpful votes.<br>\n",
    "total_votes       - Number of total votes the review received.<br>\n",
    "vine              - Review was written as part of the Vine program.<br>\n",
    "verified_purchase - The review is on a verified purchase.<br>"
   ]
  },
  {
   "cell_type": "code",
   "execution_count": 5,
   "metadata": {
    "colab": {
     "base_uri": "https://localhost:8080/"
    },
    "id": "0dcdKwuwimFw",
    "outputId": "41cbb919-8cc4-4be7-bed0-74ef6026e8a1"
   },
   "outputs": [
    {
     "data": {
      "text/plain": [
       "960375"
      ]
     },
     "execution_count": 5,
     "metadata": {
      "tags": []
     },
     "output_type": "execute_result"
    }
   ],
   "source": [
    "# Removed duplicate rows and rows with na values\n",
    "raw_vine_df=spark_df.select([\"customer_id\",\"product_parent\",\"star_rating\", \"helpful_votes\", \"total_votes\",\"vine\",\"verified_purchase\"])\n",
    "raw_vine_df=raw_vine_df.dropna(how=\"any\")\n",
    "raw_vine_df = raw_vine_df.dropDuplicates()\n",
    "raw_vine_df.count()"
   ]
  },
  {
   "cell_type": "code",
   "execution_count": 6,
   "metadata": {
    "colab": {
     "base_uri": "https://localhost:8080/"
    },
    "id": "OE-d-RQAllPg",
    "outputId": "47ede49c-8621-4aad-f086-2f9282cd1363"
   },
   "outputs": [
    {
     "name": "stdout",
     "output_type": "stream",
     "text": [
      "+-----------+--------------+-----------+-------------+-----------+----+-----------------+\n",
      "|customer_id|product_parent|star_rating|helpful_votes|total_votes|vine|verified_purchase|\n",
      "+-----------+--------------+-----------+-------------+-----------+----+-----------------+\n",
      "|   18440567|     851729310|          5|            1|          1|   N|                N|\n",
      "|   12750068|     969148256|          5|            0|          0|   N|                Y|\n",
      "|    4766847|     329989343|          5|            2|          2|   N|                Y|\n",
      "|   41739247|     740607550|          5|            0|          0|   N|                Y|\n",
      "|   14358967|     176955326|          5|            0|          0|   N|                Y|\n",
      "|     174882|     735941801|          4|            0|          2|   N|                N|\n",
      "|   31427172|     289453173|          5|            0|          0|   N|                Y|\n",
      "|   14980284|     572601317|          3|            0|          0|   N|                Y|\n",
      "|   14530627|     218492651|          5|            0|          0|   N|                Y|\n",
      "|   11147380|     743897602|          4|            0|          0|   N|                Y|\n",
      "|    1310491|     254101698|          2|            0|          0|   N|                Y|\n",
      "|    7808068|     138759253|          5|            0|          1|   N|                Y|\n",
      "|   16356588|     588149460|          5|            0|          0|   N|                Y|\n",
      "|    1274636|     535332062|          5|            0|          0|   N|                N|\n",
      "|    4726129|     586256285|          5|            0|          0|   N|                Y|\n",
      "|   45085302|     610956398|          5|            0|          0|   N|                Y|\n",
      "|   36584252|     888077403|          5|            1|          1|   N|                Y|\n",
      "|   40247617|     715353053|          5|            6|          6|   N|                Y|\n",
      "|   20624774|     609917507|          4|           25|         26|   N|                Y|\n",
      "|   50840437|     346941455|          5|            0|          0|   N|                Y|\n",
      "+-----------+--------------+-----------+-------------+-----------+----+-----------------+\n",
      "only showing top 20 rows\n",
      "\n"
     ]
    }
   ],
   "source": [
    "raw_vine_df.show()"
   ]
  },
  {
   "cell_type": "code",
   "execution_count": 7,
   "metadata": {
    "colab": {
     "base_uri": "https://localhost:8080/"
    },
    "id": "_e4s6hSOqotn",
    "outputId": "1b5caea5-2b70-4679-b2a2-692619ec2680"
   },
   "outputs": [
    {
     "name": "stdout",
     "output_type": "stream",
     "text": [
      "+-----------+--------------+-----------+-------------+-----------+----+-----------------+\n",
      "|customer_id|product_parent|star_rating|helpful_votes|total_votes|vine|verified_purchase|\n",
      "+-----------+--------------+-----------+-------------+-----------+----+-----------------+\n",
      "|   20624774|     609917507|          4|           25|         26|   N|                Y|\n",
      "|   31795932|     682366421|          4|            8|         10|   N|                Y|\n",
      "|   31908965|      62445149|          1|           23|         23|   N|                Y|\n",
      "|   37033278|      26401635|          5|           43|         46|   N|                Y|\n",
      "|   46440092|     356783176|          5|            8|         11|   N|                Y|\n",
      "|   22878858|     748259212|          3|           36|         39|   N|                Y|\n",
      "|    7578878|     725214487|          5|            9|         14|   N|                N|\n",
      "|   23754871|     981900156|          5|           14|         14|   N|                N|\n",
      "|    2833546|     701722727|          5|           12|         18|   N|                N|\n",
      "|     277336|      49448578|          5|           27|         30|   N|                Y|\n",
      "|   22523240|     494485833|          5|           44|         46|   N|                Y|\n",
      "|   51680894|      80137258|          5|            7|         12|   N|                Y|\n",
      "|   38377697|     672446041|          5|           16|         16|   N|                N|\n",
      "|    5506344|     263163279|          1|           14|         16|   N|                Y|\n",
      "|    1297559|      38352354|          5|           10|         10|   N|                Y|\n",
      "|   53081536|     166990606|          1|           15|         16|   N|                Y|\n",
      "|   37022633|     268156029|          1|            9|         18|   N|                N|\n",
      "|   21153665|     697462500|          4|           18|         20|   N|                Y|\n",
      "|    4294530|     220716953|          5|           33|         36|   N|                Y|\n",
      "|   40899858|     565601001|          1|           11|         14|   N|                Y|\n",
      "+-----------+--------------+-----------+-------------+-----------+----+-----------------+\n",
      "only showing top 20 rows\n",
      "\n"
     ]
    }
   ],
   "source": [
    "filtered_vine_df=raw_vine_df.filter(\"total_votes>=10\").filter(raw_vine_df[\"helpful_votes\"]/raw_vine_df[\"total_votes\"] >= (1-0.618))\n",
    "filtered_vine_df.show()"
   ]
  },
  {
   "cell_type": "code",
   "execution_count": 8,
   "metadata": {
    "colab": {
     "base_uri": "https://localhost:8080/"
    },
    "id": "_pJGm_frqrvI",
    "outputId": "990a1d4b-17b3-4694-a13c-cb2f004cfc60"
   },
   "outputs": [
    {
     "data": {
      "text/plain": [
       "24479"
      ]
     },
     "execution_count": 8,
     "metadata": {
      "tags": []
     },
     "output_type": "execute_result"
    }
   ],
   "source": [
    "filtered_vine_df.count()"
   ]
  },
  {
   "cell_type": "code",
   "execution_count": 9,
   "metadata": {
    "id": "W35DfcGn0hjQ"
   },
   "outputs": [],
   "source": [
    "from pyspark.sql.functions import col, avg\n",
    "paid_df = filtered_vine_df.filter(\"vine='Y'\")\n",
    "unpaid_df = filtered_vine_df.filter(\"vine='N'\")"
   ]
  },
  {
   "cell_type": "code",
   "execution_count": 10,
   "metadata": {
    "colab": {
     "base_uri": "https://localhost:8080/"
    },
    "id": "WPxrxSVe0wkU",
    "outputId": "c1f7ddeb-a3ed-46a3-cf63-ec9e6221f456"
   },
   "outputs": [
    {
     "name": "stdout",
     "output_type": "stream",
     "text": [
      "+-------+--------------------+--------------------+------------------+------------------+----------------+----+-----------------+\n",
      "|summary|         customer_id|      product_parent|       star_rating|     helpful_votes|     total_votes|vine|verified_purchase|\n",
      "+-------+--------------------+--------------------+------------------+------------------+----------------+----+-----------------+\n",
      "|  count|                 125|                 125|               125|               125|             125| 125|              125|\n",
      "|   mean|      4.1348735896E7|     4.50166770264E8|             4.016|            22.912|          26.216|null|             null|\n",
      "| stddev|1.2126937225969555E7|2.6326763366797188E8|0.9753742044516438|35.194165572187956|37.6211128095948|null|             null|\n",
      "|    min|            12288995|           102224312|                 1|                10|              10|   Y|                N|\n",
      "|    max|            53096363|           984068460|                 5|                 9|              92|   Y|                N|\n",
      "+-------+--------------------+--------------------+------------------+------------------+----------------+----+-----------------+\n",
      "\n"
     ]
    }
   ],
   "source": [
    "paid_df.describe().show()"
   ]
  },
  {
   "cell_type": "code",
   "execution_count": 11,
   "metadata": {
    "colab": {
     "base_uri": "https://localhost:8080/"
    },
    "id": "74QZMhNy00Xn",
    "outputId": "ac642917-044e-443e-8f65-39b39daf3501"
   },
   "outputs": [
    {
     "name": "stdout",
     "output_type": "stream",
     "text": [
      "+-------+--------------------+--------------------+------------------+------------------+------------------+-----+-----------------+\n",
      "|summary|         customer_id|      product_parent|       star_rating|     helpful_votes|       total_votes| vine|verified_purchase|\n",
      "+-------+--------------------+--------------------+------------------+------------------+------------------+-----+-----------------+\n",
      "|  count|               24354|               24354|             24354|             24354|             24354|24354|            24354|\n",
      "|   mean|3.0853774295844626E7|5.1217918582191837E8| 3.747515808491418| 22.02512934220251|25.013057403301307| null|             null|\n",
      "| stddev| 1.531187316725172E7|2.8922199903519046E8|1.5417441759081463|45.865329040939116| 49.73405471014589| null|             null|\n",
      "|    min|            10001397|            10017951|                 1|                10|                10|    N|                N|\n",
      "|    max|             9998293|            99999591|                 5|                99|                99|    N|                Y|\n",
      "+-------+--------------------+--------------------+------------------+------------------+------------------+-----+-----------------+\n",
      "\n"
     ]
    }
   ],
   "source": [
    "unpaid_df.describe().show()"
   ]
  },
  {
   "cell_type": "code",
   "execution_count": 12,
   "metadata": {
    "id": "8-OlhAgH4Utg"
   },
   "outputs": [],
   "source": [
    "paid_arr_str=list(paid_df.select(['star_rating']).toPandas()['star_rating'])\n",
    "paid_arr=[int(a) for a in paid_arr_str]\n",
    "unpaid_arr_str=list(unpaid_df.select(['star_rating']).toPandas()['star_rating'])\n",
    "unpaid_arr=[int(a) for a in unpaid_arr_str]"
   ]
  },
  {
   "cell_type": "code",
   "execution_count": 13,
   "metadata": {
    "colab": {
     "base_uri": "https://localhost:8080/"
    },
    "id": "82lrta1Z1pq4",
    "outputId": "a5e3f282-963f-43df-c36b-644dc1a3f874"
   },
   "outputs": [
    {
     "data": {
      "text/plain": [
       "Ttest_indResult(statistic=3.057985902095464, pvalue=0.0027171025020883794)"
      ]
     },
     "execution_count": 13,
     "metadata": {
      "tags": []
     },
     "output_type": "execute_result"
    }
   ],
   "source": [
    "from scipy import stats\n",
    "# Run paired t-test\n",
    "stats.ttest_ind(paid_arr, unpaid_arr, equal_var = False)"
   ]
  },
  {
   "cell_type": "markdown",
   "metadata": {},
   "source": [
    "## Results\n",
    "\n",
    "The t-test value is 3.06, which is higher than the t-test value (2.576) with 99% confidence that it rejects the null hypothesis. The vine reviews and unpaid reviews do **have statisically significant differences**."
   ]
  }
 ],
 "metadata": {
  "colab": {
   "collapsed_sections": [],
   "name": "level-2.ipynb",
   "provenance": []
  },
  "kernelspec": {
   "display_name": "Python 3",
   "language": "python",
   "name": "python3"
  },
  "language_info": {
   "codemirror_mode": {
    "name": "ipython",
    "version": 3
   },
   "file_extension": ".py",
   "mimetype": "text/x-python",
   "name": "python",
   "nbconvert_exporter": "python",
   "pygments_lexer": "ipython3",
   "version": "3.8.10"
  }
 },
 "nbformat": 4,
 "nbformat_minor": 1
}
