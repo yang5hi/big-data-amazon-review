{
 "cells": [
  {
   "cell_type": "code",
   "execution_count": 1,
   "metadata": {
    "colab": {
     "base_uri": "https://localhost:8080/"
    },
    "id": "lRseduODyDMe",
    "outputId": "b90a32e6-9bbc-48ff-cf37-f53d958db938"
   },
   "outputs": [
    {
     "name": "stdout",
     "output_type": "stream",
     "text": [
      "\r",
      "0% [Working]\r",
      "            \r",
      "Get:1 http://security.ubuntu.com/ubuntu bionic-security InRelease [88.7 kB]\n",
      "\r",
      "0% [Connecting to archive.ubuntu.com (91.189.88.142)] [1 InRelease 14.2 kB/88.7\r",
      "                                                                               \r",
      "Get:2 https://cloud.r-project.org/bin/linux/ubuntu bionic-cran40/ InRelease [3,626 B]\n",
      "\r",
      "0% [Connecting to archive.ubuntu.com (91.189.88.142)] [1 InRelease 83.7 kB/88.7\r",
      "0% [Connecting to archive.ubuntu.com (91.189.88.142)] [1 InRelease 88.7 kB/88.7\r",
      "0% [Connecting to archive.ubuntu.com (91.189.88.142)] [Connecting to ppa.launch\r",
      "0% [2 InRelease gpgv 3,626 B] [Connecting to archive.ubuntu.com (91.189.88.142)\r",
      "                                                                               \r",
      "Ign:3 https://developer.download.nvidia.com/compute/cuda/repos/ubuntu1804/x86_64  InRelease\n",
      "\r",
      "0% [2 InRelease gpgv 3,626 B] [Waiting for headers] [Waiting for headers] [Wait\r",
      "                                                                               \r",
      "Get:4 http://ppa.launchpad.net/c2d4u.team/c2d4u4.0+/ubuntu bionic InRelease [15.9 kB]\n",
      "Hit:5 http://archive.ubuntu.com/ubuntu bionic InRelease\n",
      "Ign:6 https://developer.download.nvidia.com/compute/machine-learning/repos/ubuntu1804/x86_64  InRelease\n",
      "Get:7 https://developer.download.nvidia.com/compute/cuda/repos/ubuntu1804/x86_64  Release [697 B]\n",
      "Hit:8 https://developer.download.nvidia.com/compute/machine-learning/repos/ubuntu1804/x86_64  Release\n",
      "Get:9 https://developer.download.nvidia.com/compute/cuda/repos/ubuntu1804/x86_64  Release.gpg [836 B]\n",
      "Get:10 http://archive.ubuntu.com/ubuntu bionic-updates InRelease [88.7 kB]\n",
      "Hit:11 http://ppa.launchpad.net/cran/libgit2/ubuntu bionic InRelease\n",
      "Get:12 http://archive.ubuntu.com/ubuntu bionic-backports InRelease [74.6 kB]\n",
      "Get:13 http://ppa.launchpad.net/deadsnakes/ppa/ubuntu bionic InRelease [15.9 kB]\n",
      "Get:14 http://security.ubuntu.com/ubuntu bionic-security/restricted amd64 Packages [473 kB]\n",
      "Get:15 http://security.ubuntu.com/ubuntu bionic-security/main amd64 Packages [2,221 kB]\n",
      "Get:16 http://security.ubuntu.com/ubuntu bionic-security/universe amd64 Packages [1,418 kB]\n",
      "Get:17 http://ppa.launchpad.net/graphics-drivers/ppa/ubuntu bionic InRelease [21.3 kB]\n",
      "Ign:19 https://developer.download.nvidia.com/compute/cuda/repos/ubuntu1804/x86_64  Packages\n",
      "Get:19 https://developer.download.nvidia.com/compute/cuda/repos/ubuntu1804/x86_64  Packages [634 kB]\n",
      "Get:20 http://ppa.launchpad.net/c2d4u.team/c2d4u4.0+/ubuntu bionic/main Sources [1,777 kB]\n",
      "Get:21 http://archive.ubuntu.com/ubuntu bionic-updates/main amd64 Packages [2,657 kB]\n",
      "Get:22 http://ppa.launchpad.net/c2d4u.team/c2d4u4.0+/ubuntu bionic/main amd64 Packages [909 kB]\n",
      "Get:23 http://archive.ubuntu.com/ubuntu bionic-updates/restricted amd64 Packages [506 kB]\n",
      "Get:24 http://archive.ubuntu.com/ubuntu bionic-updates/universe amd64 Packages [2,188 kB]\n",
      "Get:25 http://ppa.launchpad.net/deadsnakes/ppa/ubuntu bionic/main amd64 Packages [40.9 kB]\n",
      "Get:26 http://ppa.launchpad.net/graphics-drivers/ppa/ubuntu bionic/main amd64 Packages [41.5 kB]\n",
      "Fetched 13.2 MB in 4s (3,595 kB/s)\n",
      "Reading package lists... Done\n"
     ]
    }
   ],
   "source": [
    "import os\n",
    "# Find the latest version of spark 3.0  from http://www-us.apache.org/dist/spark/ and enter as the spark version\n",
    "# For example:\n",
    "spark_version = 'spark-3.1.2'\n",
    "# spark_version = 'spark-3.<enter version>'\n",
    "os.environ['SPARK_VERSION']=spark_version\n",
    "\n",
    "# Install Spark and Java\n",
    "!apt-get update\n",
    "!apt-get install openjdk-11-jdk-headless -qq > /dev/null\n",
    "!wget -q http://www-us.apache.org/dist/spark/$SPARK_VERSION/$SPARK_VERSION-bin-hadoop2.7.tgz\n",
    "!tar xf $SPARK_VERSION-bin-hadoop2.7.tgz\n",
    "!pip install -q findspark\n",
    "\n",
    "# Set Environment Variables\n",
    "os.environ[\"JAVA_HOME\"] = \"/usr/lib/jvm/java-11-openjdk-amd64\"\n",
    "os.environ[\"SPARK_HOME\"] = f\"/content/{spark_version}-bin-hadoop2.7\"\n",
    "\n",
    "# Start a SparkSession\n",
    "import findspark\n",
    "findspark.init()"
   ]
  },
  {
   "cell_type": "code",
   "execution_count": 2,
   "metadata": {
    "colab": {
     "base_uri": "https://localhost:8080/"
    },
    "id": "wvLgHbw8_BLq",
    "outputId": "ba5a737c-6a8b-4eb6-fdef-f773dc0105b5"
   },
   "outputs": [
    {
     "name": "stdout",
     "output_type": "stream",
     "text": [
      "--2021-07-02 13:08:32--  https://jdbc.postgresql.org/download/postgresql-42.2.9.jar\n",
      "Resolving jdbc.postgresql.org (jdbc.postgresql.org)... 72.32.157.228, 2001:4800:3e1:1::228\n",
      "Connecting to jdbc.postgresql.org (jdbc.postgresql.org)|72.32.157.228|:443... connected.\n",
      "HTTP request sent, awaiting response... 200 OK\n",
      "Length: 914037 (893K) [application/java-archive]\n",
      "Saving to: ‘postgresql-42.2.9.jar’\n",
      "\n",
      "postgresql-42.2.9.j 100%[===================>] 892.61K  5.24MB/s    in 0.2s    \n",
      "\n",
      "2021-07-02 13:08:32 (5.24 MB/s) - ‘postgresql-42.2.9.jar’ saved [914037/914037]\n",
      "\n"
     ]
    }
   ],
   "source": [
    "# For connection to Postgres\n",
    "!wget https://jdbc.postgresql.org/download/postgresql-42.2.9.jar"
   ]
  },
  {
   "cell_type": "code",
   "execution_count": 3,
   "metadata": {
    "id": "ZNVcDMmr7C9e"
   },
   "outputs": [],
   "source": [
    " from pyspark.sql import SparkSession\n",
    "spark = SparkSession.builder.appName(\"level_1_b\").config(\"spark.driver.extraClassPath\",\"/content/postgresql-42.2.9.jar\").getOrCreate()"
   ]
  },
  {
   "cell_type": "markdown",
   "metadata": {
    "id": "EDlIuBcQFHNv"
   },
   "source": [
    "## Connect to s3 data"
   ]
  },
  {
   "cell_type": "code",
   "execution_count": 4,
   "metadata": {
    "colab": {
     "base_uri": "https://localhost:8080/"
    },
    "id": "sjxh-IGofv56",
    "outputId": "7c2c85be-cd96-48f0-d59b-5f3c3cbd62ea"
   },
   "outputs": [
    {
     "name": "stdout",
     "output_type": "stream",
     "text": [
      "+-----------+-----------+--------------+----------+--------------+--------------------+----------------+-----------+-------------+-----------+----+-----------------+--------------------+--------------------+-----------+\n",
      "|marketplace|customer_id|     review_id|product_id|product_parent|       product_title|product_category|star_rating|helpful_votes|total_votes|vine|verified_purchase|     review_headline|         review_body|review_date|\n",
      "+-----------+-----------+--------------+----------+--------------+--------------------+----------------+-----------+-------------+-----------+----+-----------------+--------------------+--------------------+-----------+\n",
      "|         US|   12039526| RTIS3L2M1F5SM|B001CXYMFS|     737716809|Thrustmaster T-Fl...|     Video Games|          5|            0|          0|   N|                Y|an amazing joysti...|Used this for Eli...| 2015-08-31|\n",
      "|         US|    9636577| R1ZV7R40OLHKD|B00M920ND6|     569686175|Tonsee 6 buttons ...|     Video Games|          5|            0|          0|   N|                Y|Definitely a sile...|Loved it,  I didn...| 2015-08-31|\n",
      "|         US|    2331478|R3BH071QLH8QMC|B0029CSOD2|      98937668|Hidden Mysteries:...|     Video Games|          1|            0|          1|   N|                Y|            One Star|poor quality work...| 2015-08-31|\n",
      "|         US|   52495923|R127K9NTSXA2YH|B00GOOSV98|      23143350|GelTabz Performan...|     Video Games|          3|            0|          0|   N|                Y|good, but could b...|nice, but tend to...| 2015-08-31|\n",
      "|         US|   14533949|R32ZWUXDJPW27Q|B00Y074JOM|     821342511|Zero Suit Samus a...|     Video Games|          4|            0|          0|   N|                Y|   Great but flawed.|Great amiibo, gre...| 2015-08-31|\n",
      "|         US|    2377552|R3AQQ4YUKJWBA6|B002UBI6W6|     328764615|Psyclone Recharge...|     Video Games|          1|            0|          0|   N|                Y|            One Star|The remote consta...| 2015-08-31|\n",
      "|         US|   17521011|R2F0POU5K6F73F|B008XHCLFO|      24234603|Protection for yo...|     Video Games|          5|            0|          0|   N|                Y|              A Must|I have a 2012-201...| 2015-08-31|\n",
      "|         US|   19676307|R3VNR804HYSMR6|B00BRA9R6A|     682267517|   Nerf 3DS XL Armor|     Video Games|          5|            0|          0|   N|                Y|          Five Stars|Perfect, kids lov...| 2015-08-31|\n",
      "|         US|     224068| R3GZTM72WA2QH|B009EPWJLA|     435241890|One Piece: Pirate...|     Video Games|          5|            0|          0|   N|                Y|          Five Stars|            Excelent| 2015-08-31|\n",
      "|         US|   48467989| RNQOY62705W1K|B0000AV7GB|     256572651|Playstation 2 Dan...|     Video Games|          4|            0|          0|   N|                Y|          Four Stars|Slippery but expe...| 2015-08-31|\n",
      "|         US|     106569|R1VTIA3JTYBY02|B00008KTNN|     384411423|Metal Arms: Glitc...|     Video Games|          5|            0|          0|   N|                N|          Five Stars|Love the game. Se...| 2015-08-31|\n",
      "|         US|   48269642|R29DOU8791QZL8|B000A3IA0Y|     472622859|72 Pin Connector ...|     Video Games|          1|            0|          0|   N|                Y| Game will get stuck|Does not fit prop...| 2015-08-31|\n",
      "|         US|   52738710|R15DUT1VIJ9RJZ|B0053BQN34|     577628462|uDraw Gametablet ...|     Video Games|          2|            0|          0|   N|                Y|We have tried it ...|This was way too ...| 2015-08-31|\n",
      "|         US|   10556786|R3IMF2MQ3OU9ZM|B002I0HIMI|     988218515|NBA 2K12(Covers M...|     Video Games|          4|            0|          0|   N|                Y|          Four Stars|Works great good ...| 2015-08-31|\n",
      "|         US|    2963837|R23H79DHOZTYAU|B0081EH12M|     770100932|New Trigger Grips...|     Video Games|          1|            1|          1|   N|                Y|Now i have to buy...|It did not fit th...| 2015-08-31|\n",
      "|         US|   23092109| RIV24EQAIXA4O|B005FMLZQQ|      24647669|Xbox 360 Media Re...|     Video Games|          5|            0|          0|   N|                Y|          Five Stars|perfect lightweig...| 2015-08-31|\n",
      "|         US|   23091728|R3UCNGYDVN24YB|B002BSA388|      33706205|Super Mario Galaxy 2|     Video Games|          5|            0|          0|   N|                Y|          Five Stars|               great| 2015-08-31|\n",
      "|         US|   10712640| RUL4H4XTTN2DY|B00BUSLSAC|     829667834|Nintendo 3DS XL -...|     Video Games|          5|            0|          0|   N|                Y|          Five Stars|Works beautifully...| 2015-08-31|\n",
      "|         US|   17455376|R20JF7Z4DHTNX5|B00KWF38AW|     110680188|Captain Toad:  Tr...|     Video Games|          5|            0|          0|   N|                Y|          Five Stars|Kids loved the ga...| 2015-08-31|\n",
      "|         US|   14754850|R2T1AJ5MFI2260|B00BRQJYA8|     616463426|Lego Batman 2: DC...|     Video Games|          4|            0|          0|   N|                Y|          Four Stars|           Goodngame| 2015-08-31|\n",
      "+-----------+-----------+--------------+----------+--------------+--------------------+----------------+-----------+-------------+-----------+----+-----------------+--------------------+--------------------+-----------+\n",
      "only showing top 20 rows\n",
      "\n"
     ]
    }
   ],
   "source": [
    "url=\"https://s3.amazonaws.com/amazon-reviews-pds/tsv/amazon_reviews_us_Video_Games_v1_00.tsv.gz\"\n",
    "from pyspark import SparkFiles\n",
    "spark.sparkContext.addFile(url)\n",
    "spark_df = spark.read.csv(SparkFiles.get(\"amazon_reviews_us_Video_Games_v1_00.tsv.gz\"), sep=\"\\t\", header=True)\n",
    "spark_df.show()"
   ]
  },
  {
   "cell_type": "markdown",
   "metadata": {
    "id": "_9inYcLCnhsY"
   },
   "source": [
    "marketplace       - 2 letter country code of the marketplace where the review was written. <br>\n",
    "customer_id       - Random identifier that can be used to aggregate reviews written by a single author.<br>\n",
    "review_id         - The unique ID of the review.<br>\n",
    "product_id        - The unique Product ID the review pertains to. In the multilingual dataset the reviews\n",
    "                    for the same product in different countries can be grouped by the same product_id.<br>\n",
    "product_parent    - Random identifier that can be used to aggregate reviews for the same product.<br>\n",
    "product_title     - Title of the product.<br>\n",
    "product_category  - Broad product category that can be used to group reviews \n",
    "                    (also used to group the dataset into coherent parts).<br>\n",
    "star_rating       - The 1-5 star rating of the review.<br>\n",
    "helpful_votes     - Number of helpful votes.<br>\n",
    "total_votes       - Number of total votes the review received.<br>\n",
    "vine              - Review was written as part of the Vine program.<br>\n",
    "verified_purchase - The review is on a verified purchase.<br>\n",
    "review_headline   - The title of the review.<br>\n",
    "review_body       - The review text.<br>\n",
    "review_date       - The date the review was written."
   ]
  },
  {
   "cell_type": "code",
   "execution_count": 5,
   "metadata": {
    "colab": {
     "base_uri": "https://localhost:8080/"
    },
    "id": "nExUE0utshwQ",
    "outputId": "ae7fb6aa-7ad5-4c5f-bee9-67447d1daf2c"
   },
   "outputs": [
    {
     "data": {
      "text/plain": [
       "1785997"
      ]
     },
     "execution_count": 5,
     "metadata": {
      "tags": []
     },
     "output_type": "execute_result"
    }
   ],
   "source": [
    "# Removed duplicate rows\n",
    "spark_df = spark_df.dropDuplicates()\n",
    "spark_df.count()"
   ]
  },
  {
   "cell_type": "markdown",
   "metadata": {
    "id": "pKFCThVdEyiM"
   },
   "source": [
    "## Create datFrame to match the sql table schema"
   ]
  },
  {
   "cell_type": "code",
   "execution_count": 6,
   "metadata": {
    "colab": {
     "base_uri": "https://localhost:8080/"
    },
    "id": "K3vF4_e5wdmF",
    "outputId": "865fdabb-1e58-496a-c759-7965b6629ebd"
   },
   "outputs": [
    {
     "name": "stdout",
     "output_type": "stream",
     "text": [
      "+--------------+-----------+----------+--------------+-----------+\n",
      "|     review_id|customer_id|product_id|product_parent|review_date|\n",
      "+--------------+-----------+----------+--------------+-----------+\n",
      "|R1004PYTPK6ELD|   38281029|B00004WHWF|      89143877| 2002-01-23|\n",
      "|R1006LDKUHBWUK|   30949842|B00FRESY6G|     660321577| 2015-01-20|\n",
      "|R100DAG2IK0FKR|   11334948|B000FRVCAA|     876011014| 2012-01-30|\n",
      "|R101B69JLWW7AS|   12460262|B001B1W3HA|     431775211| 2013-03-16|\n",
      "|R10292JZNM6DM6|   43092063|B00009WAUZ|     650007294| 2003-10-23|\n",
      "| R102N5FRJ4BU2|   21435531|B00GMFKYJ4|     680106065| 2014-12-14|\n",
      "|R104WH238ORTDT|   11213579|B00000IFRI|      14270449| 2013-07-04|\n",
      "|R10571GO54Q7O3|   26879554|B00AAQRNQ8|     807565333| 2015-06-27|\n",
      "|R105U7CTZNLWPE|    1355533|B0076HD2W8|     416708066| 2015-02-04|\n",
      "|R106NTY9QICS5Q|   42329288|B00NKKPC1E|      74444111| 2015-01-12|\n",
      "|R106PJYIP0RVAV|   36737011|B00008XKZZ|     999958929| 2012-07-27|\n",
      "|R107YHOX9CYQWZ|   25972274|B00J48MUS4|     928566066| 2015-03-03|\n",
      "|R108IA3PLUFINS|    4165754|B000UU3SVI|     507043701| 2013-05-29|\n",
      "|R109OZ2ATS9SVB|   52422969|B00006LU9J|     279402876| 2002-10-30|\n",
      "|R10A10XU2SWLII|   50940099|B00006IKB6|     338800617| 2003-03-04|\n",
      "|R10AG3ECUCGJZA|   23617067|B00O9JLAX4|      63546783| 2015-03-29|\n",
      "|R10AOH76TWRC4W|   42472683|B00005BIG7|     790508418| 2013-03-26|\n",
      "|R10AX84X8BGT9F|   29215607|B0050SXI6K|     892605672| 2014-01-25|\n",
      "|R10B69MIQQ55GO|   42183909|B008K24BKU|     473591304| 2014-01-10|\n",
      "|R10BWVI9C6OAJN|   25735084|B003O6EE4U|     467658424| 2012-01-12|\n",
      "+--------------+-----------+----------+--------------+-----------+\n",
      "only showing top 20 rows\n",
      "\n"
     ]
    }
   ],
   "source": [
    "# Create dataframe for review_id_table\n",
    "from pyspark.sql.functions import to_date\n",
    "\n",
    "review_id_df = spark_df.select([\"review_id\", \"customer_id\", \"product_id\", \"product_parent\", to_date(\"review_date\", 'yyyy-MM-dd').alias(\"review_date\")]).dropDuplicates([\"review_id\"])\n",
    "review_id_df.show()"
   ]
  },
  {
   "cell_type": "code",
   "execution_count": 7,
   "metadata": {
    "colab": {
     "base_uri": "https://localhost:8080/"
    },
    "id": "P1mdzt246KPk",
    "outputId": "0c872140-f8c6-4ae6-828e-e0fb8b694d01"
   },
   "outputs": [
    {
     "data": {
      "text/plain": [
       "1785997"
      ]
     },
     "execution_count": 7,
     "metadata": {
      "tags": []
     },
     "output_type": "execute_result"
    }
   ],
   "source": [
    "review_id_df.count()"
   ]
  },
  {
   "cell_type": "code",
   "execution_count": 8,
   "metadata": {
    "colab": {
     "base_uri": "https://localhost:8080/"
    },
    "id": "s0hlQiP8xN14",
    "outputId": "9d60f79f-115a-4cc1-c459-27e2181150d8"
   },
   "outputs": [
    {
     "name": "stdout",
     "output_type": "stream",
     "text": [
      "+----------+--------------------+\n",
      "|product_id|       product_title|\n",
      "+----------+--------------------+\n",
      "|0439394422|school house rock...|\n",
      "|9861064222|Black Nintendo Wi...|\n",
      "|B00000K1XN|        WWF Attitude|\n",
      "|B00001OX40|   Neo Cherry Master|\n",
      "|B00001QEQD|     USCF Chess - PC|\n",
      "|B00001XDTO|        Yoda Stories|\n",
      "|B00001ZWQ0|Legend of the Riv...|\n",
      "|B0000296ZL|      Game Boy Color|\n",
      "|B00002SFMS|     Boss Rally - PC|\n",
      "|B00002SSYX|Ristar (Sega Game...|\n",
      "|B00002STA7|    NFL Football '94|\n",
      "|B00002STH3|           Extreme G|\n",
      "|B00002STJC|                 MDK|\n",
      "|B00002STWV|Virtual Open Tenn...|\n",
      "|B00002SW1K|        World Heroes|\n",
      "|B00002SW49|Lawnmower Man - S...|\n",
      "|B000035XH1|RoboCop vs. Termi...|\n",
      "|B000035XYM|Alien vs. Predato...|\n",
      "|B000035Y3U|Top Gear 2 - Nint...|\n",
      "|B000046S3Z|           Crystalis|\n",
      "+----------+--------------------+\n",
      "only showing top 20 rows\n",
      "\n"
     ]
    }
   ],
   "source": [
    "# Create dataframe for products in sql \n",
    "# 1785997 with duplicates\n",
    "# removed duplicates based on product_id to get 65792 records\n",
    "products_df = spark_df.select([\"product_id\", \"product_title\"]).dropDuplicates([\"product_id\"])\n",
    "products_df.show()"
   ]
  },
  {
   "cell_type": "code",
   "execution_count": 9,
   "metadata": {
    "colab": {
     "base_uri": "https://localhost:8080/"
    },
    "id": "QTL8ttCqz9dS",
    "outputId": "a88ae4d7-c9a9-46c9-acde-5f818b44b4f8"
   },
   "outputs": [
    {
     "data": {
      "text/plain": [
       "65792"
      ]
     },
     "execution_count": 9,
     "metadata": {
      "tags": []
     },
     "output_type": "execute_result"
    }
   ],
   "source": [
    "products_df.count()"
   ]
  },
  {
   "cell_type": "code",
   "execution_count": 10,
   "metadata": {
    "colab": {
     "base_uri": "https://localhost:8080/"
    },
    "id": "BEALNdiexclA",
    "outputId": "832241c3-0d98-4726-b566-b62be0310186"
   },
   "outputs": [
    {
     "name": "stdout",
     "output_type": "stream",
     "text": [
      "+-----------+--------------+\n",
      "|customer_id|customer_count|\n",
      "+-----------+--------------+\n",
      "|    5401088|             5|\n",
      "|   37964777|            16|\n",
      "|   20872523|             1|\n",
      "|   44777937|             4|\n",
      "|    2384511|             1|\n",
      "|   41500251|             1|\n",
      "|   34029693|             1|\n",
      "|   40005173|             2|\n",
      "|   12125016|             2|\n",
      "|   21226328|             3|\n",
      "|    6004768|             2|\n",
      "|   14445274|             4|\n",
      "|   41665035|             1|\n",
      "|   16995171|             1|\n",
      "|   25044130|             1|\n",
      "|   11073960|             2|\n",
      "|   38642776|             8|\n",
      "|    6199838|             6|\n",
      "|   19207466|             3|\n",
      "|    1760318|             1|\n",
      "+-----------+--------------+\n",
      "only showing top 20 rows\n",
      "\n"
     ]
    }
   ],
   "source": [
    "# Create dataframe for cusomers in sql\n",
    "counts = spark_df.groupBy(\"customer_id\").count()\n",
    "customers_df = counts.select([\"customer_id\", \"count\"]).withColumnRenamed(\"count\", \"customer_count\")\n",
    "customers_df.show()"
   ]
  },
  {
   "cell_type": "code",
   "execution_count": 11,
   "metadata": {
    "colab": {
     "base_uri": "https://localhost:8080/"
    },
    "id": "7iuoJ3mLESBD",
    "outputId": "0eb683d2-7027-4769-8421-566f4ed90e51"
   },
   "outputs": [
    {
     "name": "stdout",
     "output_type": "stream",
     "text": [
      "+--------------+-----------+-------------+-----------+----+\n",
      "|     review_id|star_rating|helpful_votes|total_votes|vine|\n",
      "+--------------+-----------+-------------+-----------+----+\n",
      "|R1004PYTPK6ELD|          5|            0|          0|   N|\n",
      "|R1006LDKUHBWUK|          5|            0|          0|   N|\n",
      "|R100DAG2IK0FKR|          2|            0|          1|   N|\n",
      "|R101B69JLWW7AS|          5|            0|          0|   N|\n",
      "|R10292JZNM6DM6|          3|            4|          5|   N|\n",
      "| R102N5FRJ4BU2|          5|            0|          1|   N|\n",
      "|R104WH238ORTDT|          4|            0|          0|   N|\n",
      "|R10571GO54Q7O3|          5|            0|          0|   N|\n",
      "|R105U7CTZNLWPE|          3|            0|          0|   N|\n",
      "|R106NTY9QICS5Q|          5|            1|          1|   N|\n",
      "|R106PJYIP0RVAV|          5|            0|          0|   N|\n",
      "|R107YHOX9CYQWZ|          5|            0|          0|   N|\n",
      "|R108IA3PLUFINS|          5|            0|          0|   N|\n",
      "|R109OZ2ATS9SVB|          5|            0|          1|   N|\n",
      "|R10A10XU2SWLII|          5|            4|          4|   N|\n",
      "|R10AG3ECUCGJZA|          5|            1|          1|   N|\n",
      "|R10AOH76TWRC4W|          3|            0|          1|   N|\n",
      "|R10AX84X8BGT9F|          4|            0|          0|   N|\n",
      "|R10B69MIQQ55GO|          5|            0|          1|   N|\n",
      "|R10BWVI9C6OAJN|          5|            0|          1|   N|\n",
      "+--------------+-----------+-------------+-----------+----+\n",
      "only showing top 20 rows\n",
      "\n"
     ]
    }
   ],
   "source": [
    "# Create df for vine table\n",
    "vine_df = spark_df.select([\"review_id\", \"star_rating\", \"helpful_votes\", \"total_votes\", \"vine\"]).dropDuplicates([\"review_id\"])\n",
    "vine_df.show()"
   ]
  },
  {
   "cell_type": "code",
   "execution_count": 12,
   "metadata": {
    "colab": {
     "base_uri": "https://localhost:8080/"
    },
    "id": "Hq5jsrANGS_o",
    "outputId": "5d41039b-d25e-4515-c26f-aa70fe7fdf14"
   },
   "outputs": [
    {
     "data": {
      "text/plain": [
       "1785997"
      ]
     },
     "execution_count": 12,
     "metadata": {
      "tags": []
     },
     "output_type": "execute_result"
    }
   ],
   "source": [
    "vine_df.count()"
   ]
  },
  {
   "cell_type": "markdown",
   "metadata": {
    "id": "YeafOWVMHvfn"
   },
   "source": [
    "\n",
    "\n",
    "```\n",
    "CREATE TABLE review_id_table (\n",
    "  review_id TEXT PRIMARY KEY NOT NULL,\n",
    "  customer_id INTEGER,\n",
    "  product_id TEXT,\n",
    "  product_parent INTEGER,\n",
    "  review_date DATE -- this should be in the formate yyyy-mm-dd\n",
    ");\n",
    "\n",
    "-- This table will contain only unique values\n",
    "CREATE TABLE products (\n",
    "  product_id TEXT PRIMARY KEY NOT NULL UNIQUE,\n",
    "  product_title TEXT\n",
    ");\n",
    "\n",
    "-- Customer table for first data set\n",
    "CREATE TABLE customers (\n",
    "  customer_id INT PRIMARY KEY NOT NULL UNIQUE,\n",
    "  customer_count INT\n",
    ");\n",
    "\n",
    "-- vine table\n",
    "CREATE TABLE vine_table (\n",
    "  review_id TEXT PRIMARY KEY,\n",
    "  star_rating INTEGER,\n",
    "  helpful_votes INTEGER,\n",
    "  total_votes INTEGER,\n",
    "  vine TEXT\n",
    ");\n",
    "```\n",
    "\n"
   ]
  },
  {
   "cell_type": "code",
   "execution_count": 13,
   "metadata": {
    "colab": {
     "base_uri": "https://localhost:8080/"
    },
    "id": "QFfMkuxCJL9q",
    "outputId": "430543c1-2482-46a7-fdaa-bea1a95d99c1"
   },
   "outputs": [
    {
     "name": "stdout",
     "output_type": "stream",
     "text": [
      "Collecting psycopg2-binary\n",
      "\u001b[?25l  Downloading https://files.pythonhosted.org/packages/5b/62/5f8eae172230141a53305150637fbdda7a535618d5dfa976dc013396837f/psycopg2_binary-2.9.1-cp37-cp37m-manylinux_2_17_x86_64.manylinux2014_x86_64.whl (3.4MB)\n",
      "\u001b[K     |████████████████████████████████| 3.4MB 24.2MB/s \n",
      "\u001b[?25hInstalling collected packages: psycopg2-binary\n",
      "Successfully installed psycopg2-binary-2.9.1\n"
     ]
    }
   ],
   "source": [
    "!pip install psycopg2-binary"
   ]
  },
  {
   "cell_type": "code",
   "execution_count": 14,
   "metadata": {
    "id": "QxZ4ieM-F_jp"
   },
   "outputs": [],
   "source": [
    "server = \"cwrudb.******.us-east-2.rds.amazonaws.com\"\n",
    "database = \"amzn_review\"\n",
    "port = \"5432\"\n",
    "username = \"root\"\n",
    "password = \"****\"\n",
    "\n",
    "conn = f\"postgresql://{username}:{password}@{server}:{port}/{database}\"\n",
    "\n",
    "from sqlalchemy import create_engine \n",
    "engine = create_engine(conn, echo=False)"
   ]
  },
  {
   "cell_type": "code",
   "execution_count": 16,
   "metadata": {
    "id": "QdQNEy5aKD5W"
   },
   "outputs": [],
   "source": [
    "# Review ID table, products table, cusomers table, vine table changed to pandas dataframe\n",
    "pd_review_id_df = review_id_df.toPandas()\n",
    "pd_products_df = products_df.toPandas()\n",
    "pd_customers_df = customers_df.toPandas()\n",
    "pd_vine_df = vine_df.toPandas()"
   ]
  },
  {
   "cell_type": "code",
   "execution_count": 17,
   "metadata": {
    "id": "OiOZrDIPKzOQ"
   },
   "outputs": [],
   "source": [
    "# load the dataframe to postgresql aws rds database\n",
    "pd_review_id_df.to_sql(\"review_id_table\", con=engine, if_exists='append',index=False)\n",
    "pd_products_df.to_sql(\"products\", con=engine, if_exists=\"append\", index=False)\n",
    "pd_customers_df.to_sql(\"customers\", con=engine, if_exists=\"append\", index=False)\n",
    "pd_vine_df.to_sql(\"vine_table\", con=engine, if_exists=\"append\", index=False)"
   ]
  },
  {
   "cell_type": "code",
   "execution_count": null,
   "metadata": {
    "id": "ByDOOrB2VZcC"
   },
   "outputs": [],
   "source": []
  }
 ],
 "metadata": {
  "colab": {
   "collapsed_sections": [],
   "name": "level-1_dataset2.ipynb",
   "provenance": []
  },
  "kernelspec": {
   "display_name": "Python 3",
   "language": "python",
   "name": "python3"
  },
  "language_info": {
   "codemirror_mode": {
    "name": "ipython",
    "version": 3
   },
   "file_extension": ".py",
   "mimetype": "text/x-python",
   "name": "python",
   "nbconvert_exporter": "python",
   "pygments_lexer": "ipython3",
   "version": "3.8.10"
  }
 },
 "nbformat": 4,
 "nbformat_minor": 1
}
